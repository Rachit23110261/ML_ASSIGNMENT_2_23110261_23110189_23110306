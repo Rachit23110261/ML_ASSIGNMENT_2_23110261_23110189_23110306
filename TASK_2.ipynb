{
 "cells": [
  {
   "cell_type": "code",
   "execution_count": 1,
   "metadata": {},
   "outputs": [
    {
     "name": "stdout",
     "output_type": "stream",
     "text": [
      "Collecting opencv-pythonNote: you may need to restart the kernel to use updated packages.\n",
      "\n",
      "  Downloading opencv_python-4.10.0.84-cp37-abi3-win_amd64.whl.metadata (20 kB)\n",
      "Requirement already satisfied: numpy>=1.21.2 in c:\\users\\rachi\\appdata\\local\\packages\\pythonsoftwarefoundation.python.3.11_qbz5n2kfra8p0\\localcache\\local-packages\\python311\\site-packages (from opencv-python) (1.26.2)\n",
      "Downloading opencv_python-4.10.0.84-cp37-abi3-win_amd64.whl (38.8 MB)\n",
      "   ---------------------------------------- 0.0/38.8 MB ? eta -:--:--\n",
      "   ---------------------------------------- 0.0/38.8 MB ? eta -:--:--\n",
      "   ---------------------------------------- 0.0/38.8 MB 435.7 kB/s eta 0:01:30\n",
      "   ---------------------------------------- 0.0/38.8 MB 326.8 kB/s eta 0:01:59\n",
      "   ---------------------------------------- 0.1/38.8 MB 731.4 kB/s eta 0:00:53\n",
      "   ---------------------------------------- 0.3/38.8 MB 1.4 MB/s eta 0:00:29\n",
      "    --------------------------------------- 0.5/38.8 MB 2.4 MB/s eta 0:00:17\n",
      "   - -------------------------------------- 1.1/38.8 MB 4.0 MB/s eta 0:00:10\n",
      "   - -------------------------------------- 1.8/38.8 MB 5.5 MB/s eta 0:00:07\n",
      "   -- ------------------------------------- 2.6/38.8 MB 6.9 MB/s eta 0:00:06\n",
      "   --- ------------------------------------ 3.5/38.8 MB 8.2 MB/s eta 0:00:05\n",
      "   ---- ----------------------------------- 4.3/38.8 MB 9.1 MB/s eta 0:00:04\n",
      "   ----- ---------------------------------- 5.5/38.8 MB 10.4 MB/s eta 0:00:04\n",
      "   ------ --------------------------------- 6.2/38.8 MB 10.7 MB/s eta 0:00:04\n",
      "   ------- -------------------------------- 7.4/38.8 MB 11.8 MB/s eta 0:00:03\n",
      "   -------- ------------------------------- 8.4/38.8 MB 12.2 MB/s eta 0:00:03\n",
      "   --------- ------------------------------ 9.2/38.8 MB 12.5 MB/s eta 0:00:03\n",
      "   ---------- ----------------------------- 10.4/38.8 MB 16.8 MB/s eta 0:00:02\n",
      "   ----------- ---------------------------- 11.0/38.8 MB 18.2 MB/s eta 0:00:02\n",
      "   ------------ --------------------------- 12.0/38.8 MB 18.7 MB/s eta 0:00:02\n",
      "   ------------- -------------------------- 12.8/38.8 MB 19.3 MB/s eta 0:00:02\n",
      "   ------------- -------------------------- 13.0/38.8 MB 19.3 MB/s eta 0:00:02\n",
      "   -------------- ------------------------- 14.4/38.8 MB 18.2 MB/s eta 0:00:02\n",
      "   --------------- ------------------------ 14.7/38.8 MB 17.7 MB/s eta 0:00:02\n",
      "   --------------- ------------------------ 15.4/38.8 MB 17.2 MB/s eta 0:00:02\n",
      "   --------------- ------------------------ 15.5/38.8 MB 16.4 MB/s eta 0:00:02\n",
      "   ---------------- ----------------------- 16.3/38.8 MB 16.0 MB/s eta 0:00:02\n",
      "   ----------------- ---------------------- 17.0/38.8 MB 16.0 MB/s eta 0:00:02\n",
      "   ------------------ --------------------- 17.7/38.8 MB 15.2 MB/s eta 0:00:02\n",
      "   ------------------- -------------------- 18.5/38.8 MB 15.2 MB/s eta 0:00:02\n",
      "   -------------------- ------------------- 19.5/38.8 MB 15.2 MB/s eta 0:00:02\n",
      "   -------------------- ------------------- 20.2/38.8 MB 15.6 MB/s eta 0:00:02\n",
      "   ---------------------- ----------------- 21.4/38.8 MB 15.6 MB/s eta 0:00:02\n",
      "   ----------------------- ---------------- 22.4/38.8 MB 15.6 MB/s eta 0:00:02\n",
      "   ----------------------- ---------------- 22.7/38.8 MB 14.9 MB/s eta 0:00:02\n",
      "   ------------------------ --------------- 23.7/38.8 MB 16.0 MB/s eta 0:00:01\n",
      "   ------------------------ --------------- 24.2/38.8 MB 15.2 MB/s eta 0:00:01\n",
      "   ------------------------- -------------- 25.1/38.8 MB 16.0 MB/s eta 0:00:01\n",
      "   -------------------------- ------------- 26.1/38.8 MB 17.7 MB/s eta 0:00:01\n",
      "   --------------------------- ------------ 27.0/38.8 MB 17.2 MB/s eta 0:00:01\n",
      "   ----------------------------- ---------- 28.2/38.8 MB 18.7 MB/s eta 0:00:01\n",
      "   ----------------------------- ---------- 28.8/38.8 MB 18.7 MB/s eta 0:00:01\n",
      "   ------------------------------ --------- 29.6/38.8 MB 18.2 MB/s eta 0:00:01\n",
      "   ------------------------------- -------- 30.3/38.8 MB 17.7 MB/s eta 0:00:01\n",
      "   -------------------------------- ------- 31.4/38.8 MB 18.2 MB/s eta 0:00:01\n",
      "   --------------------------------- ------ 32.1/38.8 MB 17.7 MB/s eta 0:00:01\n",
      "   ---------------------------------- ----- 33.1/38.8 MB 18.7 MB/s eta 0:00:01\n",
      "   ---------------------------------- ----- 33.6/38.8 MB 17.7 MB/s eta 0:00:01\n",
      "   ---------------------------------- ----- 33.8/38.8 MB 17.2 MB/s eta 0:00:01\n",
      "   ----------------------------------- ---- 34.4/38.8 MB 17.2 MB/s eta 0:00:01\n",
      "   ------------------------------------ --- 35.3/38.8 MB 16.4 MB/s eta 0:00:01\n",
      "   ------------------------------------- -- 36.2/38.8 MB 16.4 MB/s eta 0:00:01\n",
      "   -------------------------------------- - 37.2/38.8 MB 16.4 MB/s eta 0:00:01\n",
      "   -------------------------------------- - 37.7/38.8 MB 15.2 MB/s eta 0:00:01\n",
      "   ---------------------------------------  38.4/38.8 MB 15.2 MB/s eta 0:00:01\n",
      "   ---------------------------------------  38.8/38.8 MB 15.6 MB/s eta 0:00:01\n",
      "   ---------------------------------------  38.8/38.8 MB 15.6 MB/s eta 0:00:01\n",
      "   ---------------------------------------  38.8/38.8 MB 15.6 MB/s eta 0:00:01\n",
      "   ---------------------------------------- 38.8/38.8 MB 12.6 MB/s eta 0:00:00\n",
      "Installing collected packages: opencv-python\n",
      "Successfully installed opencv-python-4.10.0.84\n"
     ]
    },
    {
     "name": "stderr",
     "output_type": "stream",
     "text": [
      "\n",
      "[notice] A new release of pip is available: 24.0 -> 24.2\n",
      "[notice] To update, run: C:\\Users\\rachi\\AppData\\Local\\Microsoft\\WindowsApps\\PythonSoftwareFoundation.Python.3.11_qbz5n2kfra8p0\\python.exe -m pip install --upgrade pip\n"
     ]
    }
   ],
   "source": [
    "%pip install opencv-python"
   ]
  },
  {
   "cell_type": "code",
   "execution_count": null,
   "metadata": {},
   "outputs": [
    {
     "ename": "",
     "evalue": "",
     "output_type": "error",
     "traceback": [
      "\u001b[1;31mThe Kernel crashed while executing code in the the current cell or a previous cell. Please review the code in the cell(s) to identify a possible cause of the failure. Click <a href='https://aka.ms/vscodeJupyterKernelCrash'>here</a> for more info. View Jupyter <a href='command:jupyter.viewOutput'>log</a> for further details."
     ]
    }
   ],
   "source": [
    "import cv2 as cv\n",
    "image = cv.imread('1colour.jpg')\n",
    "cv.imshow('Image', image)\n",
    "cv.waitKey(0)\n",
    "cv.destroyAllWindows()"
   ]
  },
  {
   "cell_type": "code",
   "execution_count": null,
   "metadata": {},
   "outputs": [],
   "source": []
  }
 ],
 "metadata": {
  "kernelspec": {
   "display_name": "Python 3",
   "language": "python",
   "name": "python3"
  },
  "language_info": {
   "codemirror_mode": {
    "name": "ipython",
    "version": 3
   },
   "file_extension": ".py",
   "mimetype": "text/x-python",
   "name": "python",
   "nbconvert_exporter": "python",
   "pygments_lexer": "ipython3",
   "version": "3.11.5"
  },
  "orig_nbformat": 4
 },
 "nbformat": 4,
 "nbformat_minor": 2
}
